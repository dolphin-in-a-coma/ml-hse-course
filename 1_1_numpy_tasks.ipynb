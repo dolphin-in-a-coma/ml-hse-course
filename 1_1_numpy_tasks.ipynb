{
 "cells": [
  {
   "cell_type": "code",
   "execution_count": 1,
   "metadata": {},
   "outputs": [],
   "source": [
    "import numpy as np"
   ]
  },
  {
   "cell_type": "code",
   "execution_count": 2,
   "metadata": {},
   "outputs": [
    {
     "name": "stdout",
     "output_type": "stream",
     "text": [
      "[[  5.7775359   -7.20638762  -3.49025707 ...,  -4.12449329  -0.86374489\n",
      "    2.57154887]\n",
      " [ 19.25111076 -14.19917197   2.65901923 ...,  -4.38435729  15.49253853\n",
      "   -2.17362392]\n",
      " [  1.2219668  -15.12393667   3.61276685 ...,  -9.01958501   5.23471959\n",
      "   -4.35700754]\n",
      " ..., \n",
      " [ 20.51978237   8.78172243   6.41859554 ...,   1.17280862   2.42770028\n",
      "   10.17525663]\n",
      " [ 12.23260072  13.04916023  -3.02230569 ...,  -4.81170722  -1.14890416\n",
      "   -0.49972206]\n",
      " [ -1.52457302 -20.226392    -3.92862988 ..., -14.04094562   5.5422165\n",
      "   11.93230866]]\n"
     ]
    }
   ],
   "source": [
    "#1 Генерация случайной матрицы\n",
    "A = np.random.normal(1,10,(1000,50))\n",
    "print(A)"
   ]
  },
  {
   "cell_type": "code",
   "execution_count": 3,
   "metadata": {},
   "outputs": [
    {
     "name": "stdout",
     "output_type": "stream",
     "text": [
      "[[ 0.46354701 -0.87613411 -0.43951125 ..., -0.50016919 -0.1859723\n",
      "   0.18120769]\n",
      " [ 1.81050167 -1.59235966  0.15872443 ..., -0.52618723  1.48988957\n",
      "  -0.28239469]\n",
      " [ 0.0081263  -1.68707732  0.25151028 ..., -0.99027443  0.43887528\n",
      "  -0.49571081]\n",
      " ..., \n",
      " [ 1.9373309   0.76142432  0.52447685 ...,  0.03020605  0.15126858\n",
      "   0.92408833]\n",
      " [ 1.1088605   1.1985103  -0.39398635 ..., -0.56897426 -0.21518967\n",
      "  -0.11885483]\n",
      " [-0.26644557 -2.20968873 -0.48215859 ..., -1.49302193  0.47038136\n",
      "   1.09575194]]\n"
     ]
    }
   ],
   "source": [
    "#2 Нормировка матрицы\n",
    "mean_vect = A.mean(axis = 0)\n",
    "std_vect = A.std(axis = 0)\n",
    "A_norm = (A - mean_vect)/std_vect\n",
    "print(A_norm)"
   ]
  },
  {
   "cell_type": "code",
   "execution_count": 4,
   "metadata": {},
   "outputs": [
    {
     "name": "stdout",
     "output_type": "stream",
     "text": [
      "(array([0, 2, 3], dtype=int64),)\n"
     ]
    }
   ],
   "source": [
    "#3 Операции над элементами матрицы\n",
    "Z = np.array([[4, 5, 0], \n",
    "             [1, 9, 3],              \n",
    "             [5, 1, 1],\n",
    "             [3, 3, 3], \n",
    "             [9, 9, 9], \n",
    "             [4, 7, 1]])\n",
    "sum_vect = Z.sum(axis = 1)\n",
    "print(np.nonzero(sum_vect < 10))"
   ]
  },
  {
   "cell_type": "code",
   "execution_count": 5,
   "metadata": {
    "scrolled": false
   },
   "outputs": [
    {
     "name": "stdout",
     "output_type": "stream",
     "text": [
      "[[ 1.  0.  0.]\n",
      " [ 0.  1.  0.]\n",
      " [ 0.  0.  1.]\n",
      " [ 1.  0.  0.]\n",
      " [ 0.  1.  0.]\n",
      " [ 0.  0.  1.]]\n"
     ]
    }
   ],
   "source": [
    "#4 Объединение матриц\n",
    "E_1 = np.eye(3)\n",
    "E_2 = np.eye(3)\n",
    "X = np.vstack((E_1, E_2))\n",
    "print(X)"
   ]
  }
 ],
 "metadata": {
  "kernelspec": {
   "display_name": "Python 3",
   "language": "python",
   "name": "python3"
  },
  "language_info": {
   "codemirror_mode": {
    "name": "ipython",
    "version": 3
   },
   "file_extension": ".py",
   "mimetype": "text/x-python",
   "name": "python",
   "nbconvert_exporter": "python",
   "pygments_lexer": "ipython3",
   "version": "3.5.2"
  }
 },
 "nbformat": 4,
 "nbformat_minor": 2
}

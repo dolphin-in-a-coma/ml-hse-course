{
 "cells": [
  {
   "cell_type": "code",
   "execution_count": 1,
   "metadata": {},
   "outputs": [],
   "source": [
    "import sklearn\n",
    "from sklearn.model_selection import KFold\n",
    "from sklearn.model_selection import cross_val_score\n",
    "from sklearn.model_selection import GridSearchCV\n",
    "from sklearn.feature_extraction.text import TfidfVectorizer\n",
    "from sklearn.svm import SVC\n",
    "from sklearn import datasets\n",
    "import pandas as pd\n",
    "import matplotlib.pyplot as plt\n",
    "import numpy as np"
   ]
  },
  {
   "cell_type": "code",
   "execution_count": 2,
   "metadata": {},
   "outputs": [],
   "source": [
    "# 1 Load a dataset\n",
    "newsgroups = datasets.fetch_20newsgroups(subset = 'all', categories = ['alt.atheism', 'sci.space'])"
   ]
  },
  {
   "cell_type": "code",
   "execution_count": 3,
   "metadata": {
    "scrolled": true
   },
   "outputs": [],
   "source": [
    "# 2 Get TF-IDF features\n",
    "vectorizer = TfidfVectorizer()\n",
    "X = vectorizer.fit_transform(newsgroups.data)"
   ]
  },
  {
   "cell_type": "code",
   "execution_count": 4,
   "metadata": {},
   "outputs": [
    {
     "name": "stdout",
     "output_type": "stream",
     "text": [
      "0.5526360264776301\n",
      "0.5526360264776301\n",
      "0.5526360264776301\n",
      "0.5526360264776301\n",
      "0.9501635290987904\n",
      "0.9932804406678872\n",
      "0.9932804406678872\n",
      "0.9932804406678872\n",
      "0.9932804406678872\n",
      "0.9932804406678872\n",
      "0.9932804406678872\n"
     ]
    },
    {
     "data": {
      "image/png": "[encoded data removed]",
      "text/plain": [
       "<Figure size 432x288 with 1 Axes>"
      ]
     },
     "metadata": {
      "needs_background": "light"
     },
     "output_type": "display_data"
    }
   ],
   "source": [
    "# 3 Find the best C for the SVM model\n",
    "kf = KFold(n_splits=5, random_state=241, shuffle=True)\n",
    "C_powers = [p for p in range(-5,6)]\n",
    "best_score = 0\n",
    "scores = []\n",
    "best_p = best_model = None\n",
    "for p in C_powers:\n",
    "    svm = SVC(random_state=241, C=10**p, kernel='linear')\n",
    "    scores.append(cross_val_score(estimator=svm, X=X, y=newsgroups.target, cv=kf, scoring='accuracy').mean())\n",
    "    if scores[-1] > best_score:\n",
    "        best_score = scores[-1]\n",
    "        best_p = p\n",
    "        best_model = svm\n",
    "    print(scores[-1])\n",
    "plt.plot(C_powers, scores)\n",
    "plt.xlabel('C power')\n",
    "plt.ylabel('Accuracy')\n",
    "plt.show()"
   ]
  },
  {
   "cell_type": "code",
   "execution_count": 5,
   "metadata": {
    "scrolled": true
   },
   "outputs": [
    {
     "name": "stdout",
     "output_type": "stream",
     "text": [
      "0.5526315789473685\n",
      "0.5526315789473685\n",
      "0.5526315789473685\n",
      "0.5526315789473685\n",
      "0.9501679731243001\n",
      "0.9932810750279956\n",
      "0.9932810750279956\n",
      "0.9932810750279956\n",
      "0.9932810750279956\n",
      "0.9932810750279956\n",
      "0.9932810750279956\n"
     ]
    }
   ],
   "source": [
    "# 3.1 The same thing using grid\n",
    "grid = {'C': np.power(10.0, np.arange(-5, 6))}\n",
    "clf = SVC(kernel='linear', random_state=241)\n",
    "cv = KFold(n_splits=5, random_state=241, shuffle=True)\n",
    "gs = GridSearchCV(clf, grid, scoring='accuracy', cv=cv)\n",
    "gs.fit(X, newsgroups.target)\n",
    "for a in gs.cv_results_['mean_test_score']:\n",
    "    print(a)"
   ]
  },
  {
   "cell_type": "code",
   "execution_count": 6,
   "metadata": {},
   "outputs": [
    {
     "data": {
      "text/plain": [
       "SVC(C=1, cache_size=200, class_weight=None, coef0=0.0,\n",
       "  decision_function_shape='ovr', degree=3, gamma='auto_deprecated',\n",
       "  kernel='linear', max_iter=-1, probability=False, random_state=241,\n",
       "  shrinking=True, tol=0.001, verbose=False)"
      ]
     },
     "execution_count": 6,
     "metadata": {},
     "output_type": "execute_result"
    }
   ],
   "source": [
    "# 4 Teach the best model\n",
    "best_model.fit(X, newsgroups.target)"
   ]
  },
  {
   "cell_type": "code",
   "execution_count": 7,
   "metadata": {},
   "outputs": [
    {
     "name": "stdout",
     "output_type": "stream",
     "text": [
      "atheism atheists bible god keith moon religion sci sky space\n"
     ]
    }
   ],
   "source": [
    "# 5 Find the most important words\n",
    "max_coefs = []\n",
    "coefs = np.absolute(best_model.coef_.toarray().flatten())\n",
    "for i in range(10):\n",
    "    max_coefs.append(coefs.argmax())\n",
    "    coefs[max_coefs[-1]] = float('-inf')\n",
    "feature_mapping = vectorizer.get_feature_names()\n",
    "important_words = []\n",
    "for i in max_coefs:\n",
    "    important_words.append(feature_mapping[i])\n",
    "print(' '.join(sorted(important_words)))"
   ]
  },
  {
   "cell_type": "code",
   "execution_count": null,
   "metadata": {},
   "outputs": [],
   "source": []
  }
 ],
 "metadata": {
  "kernelspec": {
   "display_name": "Python 3",
   "language": "python",
   "name": "python3"
  },
  "language_info": {
   "codemirror_mode": {
    "name": "ipython",
    "version": 3
   },
   "file_extension": ".py",
   "mimetype": "text/x-python",
   "name": "python",
   "nbconvert_exporter": "python",
   "pygments_lexer": "ipython3",
   "version": "3.6.8"
  }
 },
 "nbformat": 4,
 "nbformat_minor": 2
}
